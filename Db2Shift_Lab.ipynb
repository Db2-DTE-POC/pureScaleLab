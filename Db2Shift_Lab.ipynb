{
 "cells": [
  {
   "cell_type": "markdown",
   "id": "7c694cfe",
   "metadata": {},
   "source": [
    "![Logo](images/c2c-logo.jpg#left)"
   ]
  },
  {
   "cell_type": "markdown",
   "id": "93ae1f5d",
   "metadata": {},
   "source": [
    "# Db2 Click to Containerize Lab\n",
    "\n",
    "Deploying an existing Db2 to OpenShift, Kubernetes, or Cloud Pak for Data usually involves some form of export and import and a lot of work! The new Db2 Shift tool moves your on-premises database directly to the Cloud – with no exporting of data! \n",
    "\n",
    "Db2 Shift can migrate your 10.5, 11.1 and 11.5 database directly into a Db2 container with no additional effort. This lab will take you through the IBM Db2 Shift program and how it can help modernize your Db2 databases quickly and efficiently!\n",
    "\n",
    "The lab covers the following topics:\n",
    "\n",
    "* How to install Db2U on a Kubernetes cluster\n",
    "* An overview of the Db2 Shift program\n",
    "* Four shift scenarios:\n",
    "  * Shift Db2 11.5 database to Db2U on Kubernetes\n",
    "  * Shift Db2 11.5 database via clone and deploy functions\n",
    "  * Upgrade Db2 11.1 Columnar database to Db2 on K8s\n",
    "  * Shift Db2 11.5 database to Db2 11.5 Instance with HADR\n",
    "\n",
    "Enjoy the lab, and we hope you find the new Click to Containerize Db2 Shift tool to be useful in your modernization plans for Db2!"
   ]
  },
  {
   "cell_type": "markdown",
   "id": "bc3449fd",
   "metadata": {},
   "source": [
    "## Getting Started\n",
    "As part of this lab you will have received six URLs:\n",
    "* URLs for SSH access to machines 10.0.0.1, 10.0.0.2, and 10.0.0.3 \n",
    "* The Jupyter notebook URL which will point to the Table of Contents (which you used to access this file)\n",
    "* The Notebook directory which will be used for creating a terminal window (more on this later)\n",
    "* The Kubernetes Console URL \n",
    "\n",
    "The Jupyter notebook URLs can be used to up a Jupyter notebook (this file) that you will use to learn about the Db2 shift program and run commands. Details on how to run commmands and use Jupyter notebooks can be found in the <a href=\"./An_Introduction_to_Jupyter_Notebooks.ipynb\">Introduction to Jupyter notebooks</a> section."
   ]
  },
  {
   "cell_type": "markdown",
   "id": "1e3728ee",
   "metadata": {},
   "source": [
    "## Cluster Overview\n",
    "The Db2 Click to Containerize lab is made up of three servers:\n",
    "* MicroK8s (Micro Kubernetes Server) with Db2U (10.0.0.3)\n",
    "* Db2 Server 1 (Source for shifts) (10.0.0.1)\n",
    "* Db2 Server 2 (Target for shifts) (10.0.0.2)\n",
    "\n",
    "The credentials for the various servers are:\n",
    "\n",
    "| Server        | IP          | Userid     | Password     | Db2 Version\n",
    "|:--------------|:------------|:-----------|:-------------|:-----------\n",
    "| Db2 Server 1  |10.0.0.1     | db2inst1   | db2inst1     | 11.5\n",
    "| Db2 Server 1  |10.0.0.1     | db2inst2   | db2inst2     | 11.1\n",
    "| Db2 Server 2  |10.0.0.2     | db2inst1   | db2inst1     | 11.5\n",
    "| K8S           |10.0.0.3     | k8s        | engageibm    | Kubernetes Server\n",
    "| Notebooks     |10.0.0.3     | N/A        | kubernetes   | N/A"
   ]
  },
  {
   "cell_type": "markdown",
   "id": "0f7212f5",
   "metadata": {},
   "source": [
    "## Lab Sections\n",
    "There are 7 separate steps in the lab:\n",
    "* Kubernetes and Db2U installation\n",
    "* Kubernetes Console\n",
    "* Terminal Setup\n",
    "* Db2 to Db2U\n",
    "* Db2 Clone and Apply to Db2U\n",
    "* Db2 Upgrade to Db2U\n",
    "* Db2 to Db2 with HADR\n",
    "\n",
    "You must do the Db2U installation and the Terminal setup before running any of the other labs. The Db2 Shift labs can be done in any order that you want. The Db2 Shift overview is useful if you want more details on how the utility works, but you can run the labs without knowing the detailed internals of the product."
   ]
  },
  {
   "cell_type": "markdown",
   "id": "1313cdac",
   "metadata": {},
   "source": [
    "#### Credits: IBM 2023, George Baklarz [baklarz@ca.ibm.com], Phil Downey [phil.downey1@ibm.com]"
   ]
  }
 ],
 "metadata": {
  "kernelspec": {
   "display_name": "Python 3",
   "language": "python",
   "name": "python3"
  },
  "language_info": {
   "codemirror_mode": {
    "name": "ipython",
    "version": 3
   },
   "file_extension": ".py",
   "mimetype": "text/x-python",
   "name": "python",
   "nbconvert_exporter": "python",
   "pygments_lexer": "ipython3",
   "version": "3.6.8"
  }
 },
 "nbformat": 4,
 "nbformat_minor": 5
}
