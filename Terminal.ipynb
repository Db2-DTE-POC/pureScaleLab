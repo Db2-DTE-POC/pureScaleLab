{
 "cells": [
  {
   "cell_type": "markdown",
   "id": "85bdc82a",
   "metadata": {},
   "source": [
    "![Logo](images/c2c-logo.jpg#left)"
   ]
  },
  {
   "cell_type": "markdown",
   "id": "93ae1f5d",
   "metadata": {},
   "source": [
    "# Terminal\n",
    "\n",
    "The Db2shift command cannot be used interactively within a Jupyter notebook environment. The command could be run  when connected to a virtual machine (logged on) or through a remote shell (`ssh`). To simplify the lab, the Jupyter terminal emulator will be used to communicate with the different machines in the cluster."
   ]
  },
  {
   "cell_type": "markdown",
   "id": "46572c79",
   "metadata": {},
   "source": [
    "Two URLs were provided to you as part of the lab. One URL connected you to the Table of Contents and a list of all of the steps in the lab. The second URL pointed to the directory of notebooks similar to the following.\n",
    "\n",
    "![notebooks](images/term-notebooks.jpg)"
   ]
  },
  {
   "cell_type": "markdown",
   "id": "81bbf635",
   "metadata": {},
   "source": [
    "On the far right-hand side of the Jupyter file list you will see a \"New\" button. Clicking on that will produce a list of objects that you can create.\n",
    "\n",
    "![Select](images/term-select.jpg)"
   ]
  },
  {
   "cell_type": "markdown",
   "id": "e0d08837",
   "metadata": {},
   "source": [
    "Select `Terminal` to open up a terminal shell in another browser window.\n",
    "![Terminal](images/term-terminal.jpg)"
   ]
  },
  {
   "cell_type": "markdown",
   "id": "aeb9ba0e",
   "metadata": {},
   "source": [
    "You will be using this shell to run the Db2 Shift command as well as a number of Db2 commands. If you close this window, you will have to create it again. If you had remote shelled into a server you will need to remember to issue that command again because the context of the terminal is lost when you close it.\n",
    "\n",
    "When any of the labs refer to the **terminal** window, this is what they are referring to."
   ]
  },
  {
   "cell_type": "markdown",
   "id": "1313cdac",
   "metadata": {},
   "source": [
    "#### Credits: IBM 2023, George Baklarz [baklarz@ca.ibm.com], Phil Downey [phil.downey1@ibm.com]"
   ]
  }
 ],
 "metadata": {
  "kernelspec": {
   "display_name": "Python 3",
   "language": "python",
   "name": "python3"
  },
  "language_info": {
   "codemirror_mode": {
    "name": "ipython",
    "version": 3
   },
   "file_extension": ".py",
   "mimetype": "text/x-python",
   "name": "python",
   "nbconvert_exporter": "python",
   "pygments_lexer": "ipython3",
   "version": "3.6.8"
  }
 },
 "nbformat": 4,
 "nbformat_minor": 5
}
